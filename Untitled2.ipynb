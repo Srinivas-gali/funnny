{
 "cells": [
  {
   "cell_type": "code",
   "execution_count": null,
   "id": "347632ff",
   "metadata": {},
   "outputs": [],
   "source": [
    "#inteo"
   ]
  },
  {
   "cell_type": "code",
   "execution_count": null,
   "id": "5df13ada",
   "metadata": {},
   "outputs": [],
   "source": [
    "lst = [Python\n",
    "R\n",
    "SQL\n",
    "Java\n",
    "Julia\n",
    "Scala\n",
    "C/C++\n",
    "JavaScript\n",
    "Swift\n",
    "Go\n",
    "MATLAB\n",
    "SAS]"
   ]
  },
  {
   "cell_type": "code",
   "execution_count": null,
   "id": "12122710",
   "metadata": {},
   "outputs": [],
   "source": [
    "lst = [tensorFlow.\n",
    "NumPy.\n",
    "SciPy.\n",
    "Pandas.\n",
    "Matplotlib.\n",
    "Keras.\n",
    "SciKit-Learn.\n",
    "PyTorch.]"
   ]
  },
  {
   "cell_type": "code",
   "execution_count": null,
   "id": "39999c85",
   "metadata": {
    "collapsed": true
   },
   "outputs": [],
   "source": [
    "tools = [TensorFlow.\n",
    "NumPy.\n",
    "SciPy.\n",
    "Pandas.\n",
    "Matplotlib.\n",
    "Keras.\n",
    "SciKit-Learn.\n",
    "PyTorch.]"
   ]
  },
  {
   "cell_type": "code",
   "execution_count": null,
   "id": "a718d6e9",
   "metadata": {},
   "outputs": [],
   "source": [
    "a = 3+2 \n",
    "b = 4-5\n",
    "c = 4*6\n"
   ]
  },
  {
   "cell_type": "code",
   "execution_count": null,
   "id": "24276801",
   "metadata": {},
   "outputs": [],
   "source": [
    "df = pd.DataFrame({'duration': [20, 10, 80, 120, 30, 190]})\n",
    "\n",
    "pd.to_datetime(df.duration, unit='m').dt.strftime('%H:%M')\n"
   ]
  },
  {
   "cell_type": "code",
   "execution_count": null,
   "id": "d757c114",
   "metadata": {},
   "outputs": [],
   "source": [
    "Authorname = \"Srinivas\""
   ]
  }
 ],
 "metadata": {
  "kernelspec": {
   "display_name": "Python 3 (ipykernel)",
   "language": "python",
   "name": "python3"
  },
  "language_info": {
   "codemirror_mode": {
    "name": "ipython",
    "version": 3
   },
   "file_extension": ".py",
   "mimetype": "text/x-python",
   "name": "python",
   "nbconvert_exporter": "python",
   "pygments_lexer": "ipython3",
   "version": "3.10.9"
  }
 },
 "nbformat": 4,
 "nbformat_minor": 5
}
